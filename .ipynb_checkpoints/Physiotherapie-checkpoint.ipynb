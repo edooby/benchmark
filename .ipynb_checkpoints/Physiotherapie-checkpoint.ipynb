{
 "cells": [
  {
   "cell_type": "code",
   "execution_count": 1,
   "metadata": {},
   "outputs": [],
   "source": [
    "# Librairies à importer\n",
    "\n",
    "from requests import get\n",
    "from bs4 import BeautifulSoup\n",
    "import pandas as pd\n",
    "from time import sleep\n",
    "from random import randint\n",
    "from time import time\n",
    "from IPython.display import clear_output"
   ]
  },
  {
   "cell_type": "code",
   "execution_count": 2,
   "metadata": {},
   "outputs": [
    {
     "name": "stdout",
     "output_type": "stream",
     "text": [
      "[['id : ', '2643', 'nom produit : ', 'ECOPOSTURAL Table C3539 4 plans', 'marque : ', 'ECOPOSTURAL', 'reference:', 'ECO-TE-C3539', 'prix:', 1990.0, 'prix sans remise : ', 1990.0]]\n"
     ]
    }
   ],
   "source": [
    "# Je récupére la table electrique 4 plans\n",
    "prod_list = []\n",
    "page = get(\"https://www.physiotherapie.com/c3539.html\")\n",
    "html = BeautifulSoup(page.content, 'html.parser')\n",
    "\n",
    "id = html.find(\"input\", id=\"main_product_id\")['value']\n",
    "produit = html.find(\"div\", class_=\"onglets\").find_all(\"h2\")[0].text\n",
    "produit = produit.split(\" :\")[0]\n",
    "prix = html.find(\"div\", class_=\"price-box pricerange\").find(\"meta\")['content']\n",
    "prix_sans_remise = html.find(id=\"produitOldPrice_\"+id)['value']\n",
    "\n",
    "url = \"https://www.physiotherapie.com/electrocatalog/index/viewSpecification/id/\"+id\n",
    "page_detail = get(url)\n",
    "html_d = BeautifulSoup(page_detail.content, 'html.parser')\n",
    "marque = html_d.find(\"table\", class_=\"caracDetails\").find_all(\"td\")[1].text\n",
    "ref = html_d.find(\"table\", class_=\"caracDetails\").find_all(\"td\")[3].text\n",
    "produit = [\"id : \", id, \"nom produit : \", produit, \"marque : \", marque, \"reference:\", ref, \"prix:\", float(prix), \"prix sans remise : \", float(prix_sans_remise)]\n",
    "prod_list.append(produit)\n",
    "print(prod_list)"
   ]
  },
  {
   "cell_type": "code",
   "execution_count": 4,
   "metadata": {},
   "outputs": [
    {
     "name": "stdout",
     "output_type": "stream",
     "text": [
      "[['Douleurs et rééducation', 'https://www.physiotherapie.com/physiotherapie/electrotherapie/electrotherapie-portable/douleurs-reeducation.html'], ['Appareils sport et fitness', 'https://www.physiotherapie.com/physiotherapie/electrotherapie/electrotherapie-portable/appareils-sport-fitness.html'], ['Électrodes et gels', 'https://www.physiotherapie.com/physiotherapie/electrotherapie/accessoires-electrotherapie/electrodes-gels.html'], ['Câbles et adaptateurs', 'https://www.physiotherapie.com/physiotherapie/electrotherapie/accessoires-electrotherapie/cables-adaptateurs.html'], ['Batteries et chargeurs', 'https://www.physiotherapie.com/physiotherapie/electrotherapie/accessoires-electrotherapie/chargeurs-batteries.html'], ['Accessoires Divers', 'https://www.physiotherapie.com/physiotherapie/electrotherapie/accessoires-electrotherapie/accessoires-divers.html'], ['Tables électriques Naggura', 'https://www.physiotherapie.com/tables-et-mobiliers/tables-de-massage/tables-electriques.html?manufacturer=2354'], ['Tables électriques Galaxy', 'https://www.physiotherapie.com/catalogsearch/result/index/?cat=180&q=GALAXY'], ['Tables électriques Ferrox', 'https://www.physiotherapie.com/tables-et-mobiliers/tables-de-massage/tables-electriques.html?manufacturer=381'], ['Tables électriques FERROX I-TREAT', 'https://www.physiotherapie.com/catalogsearch/result/?q=I-Treat'], ['Tables électriques Montane', 'https://www.physiotherapie.com/catalogsearch/result/?q=Table+MONTANE'], ['Tables électriques Ecopostural', 'https://www.physiotherapie.com/catalogsearch/result/?q=ecopostural'], ['Gants vinyle non stériles non poudrés', 'https://www.physiotherapie.com/gants-vinyle-non-steriles-non-poudres-3413.html'], ['Gants vinyle non stériles légèrement poudrés', 'https://www.physiotherapie.com/gants-vinyle-legerement-poudres-3414.html'], ['Gants latex non stériles non poudrés', 'https://www.physiotherapie.com/gants-latex-non-steriles-non-poudres-3419.html'], ['Gants latex non stériles poudrés', 'https://www.physiotherapie.com/gants-latex-non-steriles-poudres-3415.html'], ['Savon doux haute fréquence ANIOS', 'https://www.physiotherapie.com/savon-doux-haute-frequence.html'], ['Savon haute fréquence pH neutre ALKADOUX', 'https://www.physiotherapie.com/alkapharm-savon-haute-frequence-a-ph-neutre.html'], ['Détergent désinfectant des sols ANIOS', 'https://www.physiotherapie.com/detergent-desinfectant-des-sols-sun-way.html'], ['Nettoyant-désinfectant des sols ALKADDH', 'https://www.physiotherapie.com/nettoyant-desinfectant-des-sols-alkaddh.html'], [\"Boîte de 120 lingettes LINGET'ANIOS\", 'https://www.physiotherapie.com/boite-de-120-lingettes-alkalingettes-3111.html'], ['Masques chirugicaux 3 plis', 'https://www.physiotherapie.com/masques-chirugicaux-3-plis.html']]\n"
     ]
    }
   ],
   "source": [
    "# je récupère les produits table electriques\n",
    "prod_list = []\n",
    "urls = []\n",
    "page_1 = get(\"https://www.physiotherapie.com/tables-et-mobiliers/tables-de-massage/tables-electriques.html?p=1\")\n",
    "html_1 = BeautifulSoup(page_1.content, 'html.parser')\n",
    "list = html_1.find_all(\"li\", class_=\"level3\")\n",
    "for l in list:\n",
    "    url = l.find(\"a\")['href']\n",
    "    type = l.find(\"a\")['title']\n",
    "    urls.append([type, url])\n",
    "\n",
    "print(urls)"
   ]
  },
  {
   "cell_type": "code",
   "execution_count": 5,
   "metadata": {},
   "outputs": [
    {
     "name": "stdout",
     "output_type": "stream",
     "text": [
      "21\n",
      "       id                                                nom  \\\n",
      "0   12033                       CHATTANOOGA Compex Pro Rehab   \n",
      "1   12035                      CHATTANOOGA Compex Pro Physio   \n",
      "2     206                                    CEFAR Primo Pro   \n",
      "3     308                             CEFAR Empi Direct Tens   \n",
      "4     406                                     CEFAR Rehab X2   \n",
      "5     410                                   COMPEX Theta 500   \n",
      "6     419                                 GLOBUS Genesy 3000   \n",
      "7     423                            SCHWA MEDICO TENS ECO 2   \n",
      "8    5883                                  GLOBUS Genesy SII   \n",
      "9    5927                                  GLOBUS Genesy 600   \n",
      "10   5930                                    GLOBUS Duo Tens   \n",
      "11   5939                                 GLOBUS Premium 400   \n",
      "12   5982                                 GLOBUS Genesy 1500   \n",
      "13   6039                                 CEFAR Empi Phoenix   \n",
      "14  11064                           VEINOPLUS Veinoplus V.I.   \n",
      "15  11065                          VEINOPLUS Veinoplus Back    \n",
      "16  12034                     CHATTANOOGA Compex Pro - Theta   \n",
      "17  12037               CHATTANOOGA Compex Wireless Pro 2 CH   \n",
      "18  15752                              GLOBUS Genesy 300 pro   \n",
      "19  17697               CHATTANOOGA Compex Wireless Pro 4 CH   \n",
      "20  22835  CHATTANOOGA Compex Wireless Pro 2 CH Standard ...   \n",
      "\n",
      "                  categorie          reference  prix prix sans remise  \n",
      "0   Douleurs et rééducation      CH-EL-2533110   399              499  \n",
      "1   Douleurs et rééducation      CH-EL-2535110   799              999  \n",
      "2   Douleurs et rééducation             CE-PRP   215              229  \n",
      "3   Douleurs et rééducation            CC-DTNS    89              179  \n",
      "4   Douleurs et rééducation             CE-RX2   219              285  \n",
      "5   Douleurs et rééducation      CO-EL-2520160  1025             1025  \n",
      "6   Douleurs et rééducation         GL-GEN3000   999              999  \n",
      "7   Douleurs et rééducation      SM-TE2-104062   245              245  \n",
      "8   Douleurs et rééducation            GL-GSII   229              229  \n",
      "9   Douleurs et rééducation          GL-GNY600   599              599  \n",
      "10  Douleurs et rééducation              GL-DT   119              119  \n",
      "11  Douleurs et rééducation            GL-P400   349              399  \n",
      "12  Douleurs et rééducation         GL-GNY1500   899              899  \n",
      "13  Douleurs et rééducation              CE-EP   299              368  \n",
      "14  Douleurs et rééducation    VEI-34010488831   149              149  \n",
      "15  Douleurs et rééducation    VEI-34010401865   149              149  \n",
      "16  Douleurs et rééducation      CH-EL-2534810   599              799  \n",
      "17  Douleurs et rééducation      CH-EL-2532660   799              799  \n",
      "18  Douleurs et rééducation           GL-G3222   379              379  \n",
      "19  Douleurs et rééducation      CH-EL-2532119   999             1599  \n",
      "20  Douleurs et rééducation  CH-EL-2532660-REC   499              799  \n"
     ]
    }
   ],
   "source": [
    "import pandas as pd\n",
    "prod_id = []\n",
    "prod_categ = []\n",
    "prod_nom = []\n",
    "prod_marque = []\n",
    "prod_ref = []\n",
    "prod_prix = []\n",
    "prod_prix_0_remise = []\n",
    "\n",
    "# je récupére la première page des categories\n",
    "produit = []\n",
    "categ = urls[0][0]\n",
    "page_c = get(urls[0][1])\n",
    "\n",
    "def scrap(categ, url):\n",
    "    page_c = get(url)\n",
    "    html_c = BeautifulSoup(page_c.content, 'html.parser')\n",
    "\n",
    "    prod_list = []\n",
    "\n",
    "    url_c = html_c.find_all(\"div\", class_=\"txtList\")\n",
    "    urls_produit = []\n",
    "    for u in url_c:\n",
    "        url_p = u.find(\"h3\").find(\"a\")['href']\n",
    "        urls_produit.append(url_p)\n",
    "\n",
    "    print(len(urls_produit))\n",
    "\n",
    "    for i in urls_produit:\n",
    "        page_i = get(i)\n",
    "        html_i = BeautifulSoup(page_i.content, 'html.parser')\n",
    "        id_i = html_i.find(\"input\", id=\"main_product_id\")['value']\n",
    "        p_i = html_i.find(\"div\", class_=\"onglets\").find_all(\"h2\")[0].text\n",
    "        p_i = p_i.split(\" :\")[0]\n",
    "        prix_i = html_i.find(\"div\", class_=\"price-box pricerange\").find(\"meta\")['content']\n",
    "        prix_sans_remise_i = html_i.find(id=\"produitOldPrice_\"+id_i)\n",
    "        if prix_sans_remise_i != None:\n",
    "            prix_sans_remise_i = prix_sans_remise_i['value']\n",
    "        else:\n",
    "            prix_sans_remise_i = 'NaN'\n",
    "        url_i = \"https://www.physiotherapie.com/electrocatalog/index/viewSpecification/id/\"+id_i\n",
    "        detail_i = get(url_i)\n",
    "        html_di = BeautifulSoup(detail_i.content, 'html.parser')\n",
    "        marque_i = html_di.find(\"table\", class_=\"caracDetails\").find_all(\"td\")[5].text\n",
    "        ref_i = html_di.find(\"table\", class_=\"caracDetails\").find_all(\"td\")[1].text\n",
    "    \n",
    "        prod_id.append(id_i)\n",
    "        prod_nom.append(p_i)\n",
    "        prod_categ.append(categ) \n",
    "        #prod_marque.append(marque_i)\n",
    "        prod_ref.append(ref_i)\n",
    "        prod_prix.append(prix_i)\n",
    "        prod_prix_0_remise.append(prix_sans_remise_i)\n",
    "        #prod = [\"id : \", id_i, \"categ :\", categ, \"nom produit :\", p_i, \"marque : \", marque_i, \"reference:\", ref_i, \"prix:\", float(prix_i), \"prix sans remise : \", prix_sans_remise_i]\n",
    "        #prod_list.append(prod)\n",
    "\n",
    "    physio_df = pd.DataFrame({\n",
    "        'id': prod_id,\n",
    "        'nom': prod_nom,\n",
    "        'categorie': prod_categ,\n",
    "        #'marque': prod_marque,\n",
    "        'reference': prod_ref,\n",
    "        'prix': prod_prix,\n",
    "        'prix sans remise': prod_prix_0_remise\n",
    "    })\n",
    "        \n",
    "    return(physio_df)\n",
    "\n",
    "df = scrap(urls[0][0], urls[0][1])\n",
    "#physio_df.to_json(orient='table')\n",
    "\n",
    "print(df)\n"
   ]
  },
  {
   "cell_type": "code",
   "execution_count": 6,
   "metadata": {},
   "outputs": [
    {
     "name": "stdout",
     "output_type": "stream",
     "text": [
      "30\n"
     ]
    },
    {
     "ename": "AttributeError",
     "evalue": "'NoneType' object has no attribute 'find'",
     "output_type": "error",
     "traceback": [
      "\u001b[1;31m---------------------------------------------------------------------------\u001b[0m",
      "\u001b[1;31mAttributeError\u001b[0m                            Traceback (most recent call last)",
      "\u001b[1;32m<ipython-input-6-9b864b42f8b2>\u001b[0m in \u001b[0;36m<module>\u001b[1;34m()\u001b[0m\n\u001b[1;32m----> 1\u001b[1;33m \u001b[0mdf\u001b[0m \u001b[1;33m=\u001b[0m \u001b[0mscrap\u001b[0m\u001b[1;33m(\u001b[0m\u001b[0murls\u001b[0m\u001b[1;33m[\u001b[0m\u001b[1;36m2\u001b[0m\u001b[1;33m]\u001b[0m\u001b[1;33m[\u001b[0m\u001b[1;36m0\u001b[0m\u001b[1;33m]\u001b[0m\u001b[1;33m,\u001b[0m \u001b[0murls\u001b[0m\u001b[1;33m[\u001b[0m\u001b[1;36m2\u001b[0m\u001b[1;33m]\u001b[0m\u001b[1;33m[\u001b[0m\u001b[1;36m1\u001b[0m\u001b[1;33m]\u001b[0m\u001b[1;33m)\u001b[0m\u001b[1;33m\u001b[0m\u001b[0m\n\u001b[0m",
      "\u001b[1;32m<ipython-input-5-f49609f9dfe2>\u001b[0m in \u001b[0;36mscrap\u001b[1;34m(categ, url)\u001b[0m\n\u001b[0;32m     33\u001b[0m         \u001b[0mp_i\u001b[0m \u001b[1;33m=\u001b[0m \u001b[0mhtml_i\u001b[0m\u001b[1;33m.\u001b[0m\u001b[0mfind\u001b[0m\u001b[1;33m(\u001b[0m\u001b[1;34m\"div\"\u001b[0m\u001b[1;33m,\u001b[0m \u001b[0mclass_\u001b[0m\u001b[1;33m=\u001b[0m\u001b[1;34m\"onglets\"\u001b[0m\u001b[1;33m)\u001b[0m\u001b[1;33m.\u001b[0m\u001b[0mfind_all\u001b[0m\u001b[1;33m(\u001b[0m\u001b[1;34m\"h2\"\u001b[0m\u001b[1;33m)\u001b[0m\u001b[1;33m[\u001b[0m\u001b[1;36m0\u001b[0m\u001b[1;33m]\u001b[0m\u001b[1;33m.\u001b[0m\u001b[0mtext\u001b[0m\u001b[1;33m\u001b[0m\u001b[0m\n\u001b[0;32m     34\u001b[0m         \u001b[0mp_i\u001b[0m \u001b[1;33m=\u001b[0m \u001b[0mp_i\u001b[0m\u001b[1;33m.\u001b[0m\u001b[0msplit\u001b[0m\u001b[1;33m(\u001b[0m\u001b[1;34m\" :\"\u001b[0m\u001b[1;33m)\u001b[0m\u001b[1;33m[\u001b[0m\u001b[1;36m0\u001b[0m\u001b[1;33m]\u001b[0m\u001b[1;33m\u001b[0m\u001b[0m\n\u001b[1;32m---> 35\u001b[1;33m         \u001b[0mprix_i\u001b[0m \u001b[1;33m=\u001b[0m \u001b[0mhtml_i\u001b[0m\u001b[1;33m.\u001b[0m\u001b[0mfind\u001b[0m\u001b[1;33m(\u001b[0m\u001b[1;34m\"div\"\u001b[0m\u001b[1;33m,\u001b[0m \u001b[0mclass_\u001b[0m\u001b[1;33m=\u001b[0m\u001b[1;34m\"price-box pricerange\"\u001b[0m\u001b[1;33m)\u001b[0m\u001b[1;33m.\u001b[0m\u001b[0mfind\u001b[0m\u001b[1;33m(\u001b[0m\u001b[1;34m\"meta\"\u001b[0m\u001b[1;33m)\u001b[0m\u001b[1;33m[\u001b[0m\u001b[1;34m'content'\u001b[0m\u001b[1;33m]\u001b[0m\u001b[1;33m\u001b[0m\u001b[0m\n\u001b[0m\u001b[0;32m     36\u001b[0m         \u001b[0mprix_sans_remise_i\u001b[0m \u001b[1;33m=\u001b[0m \u001b[0mhtml_i\u001b[0m\u001b[1;33m.\u001b[0m\u001b[0mfind\u001b[0m\u001b[1;33m(\u001b[0m\u001b[0mid\u001b[0m\u001b[1;33m=\u001b[0m\u001b[1;34m\"produitOldPrice_\"\u001b[0m\u001b[1;33m+\u001b[0m\u001b[0mid_i\u001b[0m\u001b[1;33m)\u001b[0m\u001b[1;33m\u001b[0m\u001b[0m\n\u001b[0;32m     37\u001b[0m         \u001b[1;32mif\u001b[0m \u001b[0mprix_sans_remise_i\u001b[0m \u001b[1;33m!=\u001b[0m \u001b[1;32mNone\u001b[0m\u001b[1;33m:\u001b[0m\u001b[1;33m\u001b[0m\u001b[0m\n",
      "\u001b[1;31mAttributeError\u001b[0m: 'NoneType' object has no attribute 'find'"
     ]
    }
   ],
   "source": [
    "df = scrap(urls[2][0], urls[2][1])"
   ]
  },
  {
   "cell_type": "code",
   "execution_count": 7,
   "metadata": {},
   "outputs": [
    {
     "name": "stdout",
     "output_type": "stream",
     "text": [
      "30\n"
     ]
    },
    {
     "ename": "AttributeError",
     "evalue": "'NoneType' object has no attribute 'find'",
     "output_type": "error",
     "traceback": [
      "\u001b[1;31m---------------------------------------------------------------------------\u001b[0m",
      "\u001b[1;31mAttributeError\u001b[0m                            Traceback (most recent call last)",
      "\u001b[1;32m<ipython-input-7-a1998bb44d86>\u001b[0m in \u001b[0;36m<module>\u001b[1;34m()\u001b[0m\n\u001b[1;32m----> 1\u001b[1;33m \u001b[0mdf\u001b[0m \u001b[1;33m=\u001b[0m \u001b[0mscrap\u001b[0m\u001b[1;33m(\u001b[0m\u001b[0murls\u001b[0m\u001b[1;33m[\u001b[0m\u001b[1;36m3\u001b[0m\u001b[1;33m]\u001b[0m\u001b[1;33m[\u001b[0m\u001b[1;36m0\u001b[0m\u001b[1;33m]\u001b[0m\u001b[1;33m,\u001b[0m \u001b[0murls\u001b[0m\u001b[1;33m[\u001b[0m\u001b[1;36m3\u001b[0m\u001b[1;33m]\u001b[0m\u001b[1;33m[\u001b[0m\u001b[1;36m1\u001b[0m\u001b[1;33m]\u001b[0m\u001b[1;33m)\u001b[0m\u001b[1;33m\u001b[0m\u001b[0m\n\u001b[0m",
      "\u001b[1;32m<ipython-input-5-f49609f9dfe2>\u001b[0m in \u001b[0;36mscrap\u001b[1;34m(categ, url)\u001b[0m\n\u001b[0;32m     33\u001b[0m         \u001b[0mp_i\u001b[0m \u001b[1;33m=\u001b[0m \u001b[0mhtml_i\u001b[0m\u001b[1;33m.\u001b[0m\u001b[0mfind\u001b[0m\u001b[1;33m(\u001b[0m\u001b[1;34m\"div\"\u001b[0m\u001b[1;33m,\u001b[0m \u001b[0mclass_\u001b[0m\u001b[1;33m=\u001b[0m\u001b[1;34m\"onglets\"\u001b[0m\u001b[1;33m)\u001b[0m\u001b[1;33m.\u001b[0m\u001b[0mfind_all\u001b[0m\u001b[1;33m(\u001b[0m\u001b[1;34m\"h2\"\u001b[0m\u001b[1;33m)\u001b[0m\u001b[1;33m[\u001b[0m\u001b[1;36m0\u001b[0m\u001b[1;33m]\u001b[0m\u001b[1;33m.\u001b[0m\u001b[0mtext\u001b[0m\u001b[1;33m\u001b[0m\u001b[0m\n\u001b[0;32m     34\u001b[0m         \u001b[0mp_i\u001b[0m \u001b[1;33m=\u001b[0m \u001b[0mp_i\u001b[0m\u001b[1;33m.\u001b[0m\u001b[0msplit\u001b[0m\u001b[1;33m(\u001b[0m\u001b[1;34m\" :\"\u001b[0m\u001b[1;33m)\u001b[0m\u001b[1;33m[\u001b[0m\u001b[1;36m0\u001b[0m\u001b[1;33m]\u001b[0m\u001b[1;33m\u001b[0m\u001b[0m\n\u001b[1;32m---> 35\u001b[1;33m         \u001b[0mprix_i\u001b[0m \u001b[1;33m=\u001b[0m \u001b[0mhtml_i\u001b[0m\u001b[1;33m.\u001b[0m\u001b[0mfind\u001b[0m\u001b[1;33m(\u001b[0m\u001b[1;34m\"div\"\u001b[0m\u001b[1;33m,\u001b[0m \u001b[0mclass_\u001b[0m\u001b[1;33m=\u001b[0m\u001b[1;34m\"price-box pricerange\"\u001b[0m\u001b[1;33m)\u001b[0m\u001b[1;33m.\u001b[0m\u001b[0mfind\u001b[0m\u001b[1;33m(\u001b[0m\u001b[1;34m\"meta\"\u001b[0m\u001b[1;33m)\u001b[0m\u001b[1;33m[\u001b[0m\u001b[1;34m'content'\u001b[0m\u001b[1;33m]\u001b[0m\u001b[1;33m\u001b[0m\u001b[0m\n\u001b[0m\u001b[0;32m     36\u001b[0m         \u001b[0mprix_sans_remise_i\u001b[0m \u001b[1;33m=\u001b[0m \u001b[0mhtml_i\u001b[0m\u001b[1;33m.\u001b[0m\u001b[0mfind\u001b[0m\u001b[1;33m(\u001b[0m\u001b[0mid\u001b[0m\u001b[1;33m=\u001b[0m\u001b[1;34m\"produitOldPrice_\"\u001b[0m\u001b[1;33m+\u001b[0m\u001b[0mid_i\u001b[0m\u001b[1;33m)\u001b[0m\u001b[1;33m\u001b[0m\u001b[0m\n\u001b[0;32m     37\u001b[0m         \u001b[1;32mif\u001b[0m \u001b[0mprix_sans_remise_i\u001b[0m \u001b[1;33m!=\u001b[0m \u001b[1;32mNone\u001b[0m\u001b[1;33m:\u001b[0m\u001b[1;33m\u001b[0m\u001b[0m\n",
      "\u001b[1;31mAttributeError\u001b[0m: 'NoneType' object has no attribute 'find'"
     ]
    }
   ],
   "source": [
    "df = scrap(urls[3][0], urls[3][1])"
   ]
  },
  {
   "cell_type": "code",
   "execution_count": 9,
   "metadata": {},
   "outputs": [
    {
     "name": "stdout",
     "output_type": "stream",
     "text": [
      "9\n"
     ]
    }
   ],
   "source": [
    "df = scrap(urls[1][0], urls[1][1])"
   ]
  },
  {
   "cell_type": "code",
   "execution_count": null,
   "metadata": {},
   "outputs": [],
   "source": []
  },
  {
   "cell_type": "code",
   "execution_count": 27,
   "metadata": {},
   "outputs": [
    {
     "name": "stdout",
     "output_type": "stream",
     "text": [
      "{\"schema\": {\"fields\":[{\"name\":\"index\",\"type\":\"integer\"},{\"name\":\"id\",\"type\":\"string\"},{\"name\":\"nom\",\"type\":\"string\"},{\"name\":\"categorie\",\"type\":\"string\"},{\"name\":\"reference\",\"type\":\"string\"},{\"name\":\"prix\",\"type\":\"string\"},{\"name\":\"prix sans remise\",\"type\":\"string\"}],\"primaryKey\":[\"index\"],\"pandas_version\":\"0.20.0\"}, \"data\": [{\"index\":0,\"id\":\"12033\",\"nom\":\"CHATTANOOGA Compex Pro Rehab\",\"categorie\":\"Douleurs et r\\u00e9\\u00e9ducation\",\"reference\":\"CH-EL-2533110\",\"prix\":\"399\",\"prix sans remise\":\"499\"},{\"index\":1,\"id\":\"12035\",\"nom\":\"CHATTANOOGA Compex Pro Physio\",\"categorie\":\"Douleurs et r\\u00e9\\u00e9ducation\",\"reference\":\"CH-EL-2535110\",\"prix\":\"799\",\"prix sans remise\":\"999\"},{\"index\":2,\"id\":\"206\",\"nom\":\"CEFAR Primo Pro\",\"categorie\":\"Douleurs et r\\u00e9\\u00e9ducation\",\"reference\":\"CE-PRP\",\"prix\":\"215\",\"prix sans remise\":\"229\"},{\"index\":3,\"id\":\"308\",\"nom\":\"CEFAR Empi Direct Tens\",\"categorie\":\"Douleurs et r\\u00e9\\u00e9ducation\",\"reference\":\"CC-DTNS\",\"prix\":\"89\",\"prix sans remise\":\"179\"},{\"index\":4,\"id\":\"406\",\"nom\":\"CEFAR Rehab X2\",\"categorie\":\"Douleurs et r\\u00e9\\u00e9ducation\",\"reference\":\"CE-RX2\",\"prix\":\"219\",\"prix sans remise\":\"285\"},{\"index\":5,\"id\":\"410\",\"nom\":\"COMPEX Theta 500\",\"categorie\":\"Douleurs et r\\u00e9\\u00e9ducation\",\"reference\":\"CO-EL-2520160\",\"prix\":\"1025\",\"prix sans remise\":\"1025\"},{\"index\":6,\"id\":\"419\",\"nom\":\"GLOBUS Genesy 3000\",\"categorie\":\"Douleurs et r\\u00e9\\u00e9ducation\",\"reference\":\"GL-GEN3000\",\"prix\":\"999\",\"prix sans remise\":\"999\"},{\"index\":7,\"id\":\"423\",\"nom\":\"SCHWA MEDICO TENS ECO 2\",\"categorie\":\"Douleurs et r\\u00e9\\u00e9ducation\",\"reference\":\"SM-TE2-104062\",\"prix\":\"245\",\"prix sans remise\":\"245\"},{\"index\":8,\"id\":\"5883\",\"nom\":\"GLOBUS Genesy SII\",\"categorie\":\"Douleurs et r\\u00e9\\u00e9ducation\",\"reference\":\"GL-GSII\",\"prix\":\"229\",\"prix sans remise\":\"229\"},{\"index\":9,\"id\":\"5927\",\"nom\":\"GLOBUS Genesy 600\",\"categorie\":\"Douleurs et r\\u00e9\\u00e9ducation\",\"reference\":\"GL-GNY600\",\"prix\":\"599\",\"prix sans remise\":\"599\"},{\"index\":10,\"id\":\"5930\",\"nom\":\"GLOBUS Duo Tens\",\"categorie\":\"Douleurs et r\\u00e9\\u00e9ducation\",\"reference\":\"GL-DT\",\"prix\":\"119\",\"prix sans remise\":\"119\"},{\"index\":11,\"id\":\"5939\",\"nom\":\"GLOBUS Premium 400\",\"categorie\":\"Douleurs et r\\u00e9\\u00e9ducation\",\"reference\":\"GL-P400\",\"prix\":\"349\",\"prix sans remise\":\"399\"},{\"index\":12,\"id\":\"5982\",\"nom\":\"GLOBUS Genesy 1500\",\"categorie\":\"Douleurs et r\\u00e9\\u00e9ducation\",\"reference\":\"GL-GNY1500\",\"prix\":\"899\",\"prix sans remise\":\"899\"},{\"index\":13,\"id\":\"6039\",\"nom\":\"CEFAR Empi Phoenix\",\"categorie\":\"Douleurs et r\\u00e9\\u00e9ducation\",\"reference\":\"CE-EP\",\"prix\":\"299\",\"prix sans remise\":\"368\"},{\"index\":14,\"id\":\"11064\",\"nom\":\"VEINOPLUS Veinoplus V.I.\",\"categorie\":\"Douleurs et r\\u00e9\\u00e9ducation\",\"reference\":\"VEI-34010488831\",\"prix\":\"149\",\"prix sans remise\":\"149\"},{\"index\":15,\"id\":\"11065\",\"nom\":\"VEINOPLUS Veinoplus Back \",\"categorie\":\"Douleurs et r\\u00e9\\u00e9ducation\",\"reference\":\"VEI-34010401865\",\"prix\":\"149\",\"prix sans remise\":\"149\"},{\"index\":16,\"id\":\"12034\",\"nom\":\"CHATTANOOGA Compex Pro - Theta\",\"categorie\":\"Douleurs et r\\u00e9\\u00e9ducation\",\"reference\":\"CH-EL-2534810\",\"prix\":\"599\",\"prix sans remise\":\"799\"},{\"index\":17,\"id\":\"12037\",\"nom\":\"CHATTANOOGA Compex Wireless Pro 2 CH\",\"categorie\":\"Douleurs et r\\u00e9\\u00e9ducation\",\"reference\":\"CH-EL-2532660\",\"prix\":\"799\",\"prix sans remise\":\"799\"},{\"index\":18,\"id\":\"15752\",\"nom\":\"GLOBUS Genesy 300 pro\",\"categorie\":\"Douleurs et r\\u00e9\\u00e9ducation\",\"reference\":\"GL-G3222\",\"prix\":\"379\",\"prix sans remise\":\"379\"},{\"index\":19,\"id\":\"17697\",\"nom\":\"CHATTANOOGA Compex Wireless Pro 4 CH\",\"categorie\":\"Douleurs et r\\u00e9\\u00e9ducation\",\"reference\":\"CH-EL-2532119\",\"prix\":\"999\",\"prix sans remise\":\"1599\"},{\"index\":20,\"id\":\"22835\",\"nom\":\"CHATTANOOGA Compex Wireless Pro 2 CH Standard reconditionn\\u00e9\",\"categorie\":\"Douleurs et r\\u00e9\\u00e9ducation\",\"reference\":\"CH-EL-2532660-REC\",\"prix\":\"499\",\"prix sans remise\":\"799\"}]}\n"
     ]
    }
   ],
   "source": [
    "pd.options.display.max_rows = 100\n",
    "physio_df = pd.DataFrame({\n",
    "    'id': prod_id,\n",
    "    'nom': prod_nom,\n",
    "    'categorie': prod_categ,\n",
    "    'reference': prod_ref,\n",
    "    'prix': prod_prix,\n",
    "    'prix sans remise': prod_prix_0_remise\n",
    "})\n",
    "        \n",
    "\n",
    "json = physio_df.to_json(orient='table')\n",
    "\n",
    "print(json)"
   ]
  },
  {
   "cell_type": "code",
   "execution_count": 28,
   "metadata": {},
   "outputs": [
    {
     "ename": "ConnectionError",
     "evalue": "HTTPSConnectionPool(host='www.physiotherapie.com', port=443): Max retries exceeded with url: /physiotherapie/electrotherapie/electrotherapie-portable/douleurs-reeducation/compex-wireless-pro-2-ch-standard-reconditionne.html (Caused by NewConnectionError('<urllib3.connection.VerifiedHTTPSConnection object at 0x0000023431C17A90>: Failed to establish a new connection: [WinError 10060] Une tentative de connexion a échoué car le parti connecté n’a pas répondu convenablement au-delà d’une certaine durée ou une connexion établie a échoué car l’hôte de connexion n’a pas répondu',))",
     "output_type": "error",
     "traceback": [
      "\u001b[1;31m---------------------------------------------------------------------------\u001b[0m",
      "\u001b[1;31mTimeoutError\u001b[0m                              Traceback (most recent call last)",
      "\u001b[1;32m~\\Anaconda3\\lib\\site-packages\\urllib3\\connection.py\u001b[0m in \u001b[0;36m_new_conn\u001b[1;34m(self)\u001b[0m\n\u001b[0;32m    140\u001b[0m             conn = connection.create_connection(\n\u001b[1;32m--> 141\u001b[1;33m                 (self.host, self.port), self.timeout, **extra_kw)\n\u001b[0m\u001b[0;32m    142\u001b[0m \u001b[1;33m\u001b[0m\u001b[0m\n",
      "\u001b[1;32m~\\Anaconda3\\lib\\site-packages\\urllib3\\util\\connection.py\u001b[0m in \u001b[0;36mcreate_connection\u001b[1;34m(address, timeout, source_address, socket_options)\u001b[0m\n\u001b[0;32m     82\u001b[0m     \u001b[1;32mif\u001b[0m \u001b[0merr\u001b[0m \u001b[1;32mis\u001b[0m \u001b[1;32mnot\u001b[0m \u001b[1;32mNone\u001b[0m\u001b[1;33m:\u001b[0m\u001b[1;33m\u001b[0m\u001b[0m\n\u001b[1;32m---> 83\u001b[1;33m         \u001b[1;32mraise\u001b[0m \u001b[0merr\u001b[0m\u001b[1;33m\u001b[0m\u001b[0m\n\u001b[0m\u001b[0;32m     84\u001b[0m \u001b[1;33m\u001b[0m\u001b[0m\n",
      "\u001b[1;32m~\\Anaconda3\\lib\\site-packages\\urllib3\\util\\connection.py\u001b[0m in \u001b[0;36mcreate_connection\u001b[1;34m(address, timeout, source_address, socket_options)\u001b[0m\n\u001b[0;32m     72\u001b[0m                 \u001b[0msock\u001b[0m\u001b[1;33m.\u001b[0m\u001b[0mbind\u001b[0m\u001b[1;33m(\u001b[0m\u001b[0msource_address\u001b[0m\u001b[1;33m)\u001b[0m\u001b[1;33m\u001b[0m\u001b[0m\n\u001b[1;32m---> 73\u001b[1;33m             \u001b[0msock\u001b[0m\u001b[1;33m.\u001b[0m\u001b[0mconnect\u001b[0m\u001b[1;33m(\u001b[0m\u001b[0msa\u001b[0m\u001b[1;33m)\u001b[0m\u001b[1;33m\u001b[0m\u001b[0m\n\u001b[0m\u001b[0;32m     74\u001b[0m             \u001b[1;32mreturn\u001b[0m \u001b[0msock\u001b[0m\u001b[1;33m\u001b[0m\u001b[0m\n",
      "\u001b[1;31mTimeoutError\u001b[0m: [WinError 10060] Une tentative de connexion a échoué car le parti connecté n’a pas répondu convenablement au-delà d’une certaine durée ou une connexion établie a échoué car l’hôte de connexion n’a pas répondu",
      "\nDuring handling of the above exception, another exception occurred:\n",
      "\u001b[1;31mNewConnectionError\u001b[0m                        Traceback (most recent call last)",
      "\u001b[1;32m~\\Anaconda3\\lib\\site-packages\\urllib3\\connectionpool.py\u001b[0m in \u001b[0;36murlopen\u001b[1;34m(self, method, url, body, headers, retries, redirect, assert_same_host, timeout, pool_timeout, release_conn, chunked, body_pos, **response_kw)\u001b[0m\n\u001b[0;32m    600\u001b[0m                                                   \u001b[0mbody\u001b[0m\u001b[1;33m=\u001b[0m\u001b[0mbody\u001b[0m\u001b[1;33m,\u001b[0m \u001b[0mheaders\u001b[0m\u001b[1;33m=\u001b[0m\u001b[0mheaders\u001b[0m\u001b[1;33m,\u001b[0m\u001b[1;33m\u001b[0m\u001b[0m\n\u001b[1;32m--> 601\u001b[1;33m                                                   chunked=chunked)\n\u001b[0m\u001b[0;32m    602\u001b[0m \u001b[1;33m\u001b[0m\u001b[0m\n",
      "\u001b[1;32m~\\Anaconda3\\lib\\site-packages\\urllib3\\connectionpool.py\u001b[0m in \u001b[0;36m_make_request\u001b[1;34m(self, conn, method, url, timeout, chunked, **httplib_request_kw)\u001b[0m\n\u001b[0;32m    345\u001b[0m         \u001b[1;32mtry\u001b[0m\u001b[1;33m:\u001b[0m\u001b[1;33m\u001b[0m\u001b[0m\n\u001b[1;32m--> 346\u001b[1;33m             \u001b[0mself\u001b[0m\u001b[1;33m.\u001b[0m\u001b[0m_validate_conn\u001b[0m\u001b[1;33m(\u001b[0m\u001b[0mconn\u001b[0m\u001b[1;33m)\u001b[0m\u001b[1;33m\u001b[0m\u001b[0m\n\u001b[0m\u001b[0;32m    347\u001b[0m         \u001b[1;32mexcept\u001b[0m \u001b[1;33m(\u001b[0m\u001b[0mSocketTimeout\u001b[0m\u001b[1;33m,\u001b[0m \u001b[0mBaseSSLError\u001b[0m\u001b[1;33m)\u001b[0m \u001b[1;32mas\u001b[0m \u001b[0me\u001b[0m\u001b[1;33m:\u001b[0m\u001b[1;33m\u001b[0m\u001b[0m\n",
      "\u001b[1;32m~\\Anaconda3\\lib\\site-packages\\urllib3\\connectionpool.py\u001b[0m in \u001b[0;36m_validate_conn\u001b[1;34m(self, conn)\u001b[0m\n\u001b[0;32m    849\u001b[0m         \u001b[1;32mif\u001b[0m \u001b[1;32mnot\u001b[0m \u001b[0mgetattr\u001b[0m\u001b[1;33m(\u001b[0m\u001b[0mconn\u001b[0m\u001b[1;33m,\u001b[0m \u001b[1;34m'sock'\u001b[0m\u001b[1;33m,\u001b[0m \u001b[1;32mNone\u001b[0m\u001b[1;33m)\u001b[0m\u001b[1;33m:\u001b[0m  \u001b[1;31m# AppEngine might not have  `.sock`\u001b[0m\u001b[1;33m\u001b[0m\u001b[0m\n\u001b[1;32m--> 850\u001b[1;33m             \u001b[0mconn\u001b[0m\u001b[1;33m.\u001b[0m\u001b[0mconnect\u001b[0m\u001b[1;33m(\u001b[0m\u001b[1;33m)\u001b[0m\u001b[1;33m\u001b[0m\u001b[0m\n\u001b[0m\u001b[0;32m    851\u001b[0m \u001b[1;33m\u001b[0m\u001b[0m\n",
      "\u001b[1;32m~\\Anaconda3\\lib\\site-packages\\urllib3\\connection.py\u001b[0m in \u001b[0;36mconnect\u001b[1;34m(self)\u001b[0m\n\u001b[0;32m    283\u001b[0m         \u001b[1;31m# Add certificate verification\u001b[0m\u001b[1;33m\u001b[0m\u001b[1;33m\u001b[0m\u001b[0m\n\u001b[1;32m--> 284\u001b[1;33m         \u001b[0mconn\u001b[0m \u001b[1;33m=\u001b[0m \u001b[0mself\u001b[0m\u001b[1;33m.\u001b[0m\u001b[0m_new_conn\u001b[0m\u001b[1;33m(\u001b[0m\u001b[1;33m)\u001b[0m\u001b[1;33m\u001b[0m\u001b[0m\n\u001b[0m\u001b[0;32m    285\u001b[0m \u001b[1;33m\u001b[0m\u001b[0m\n",
      "\u001b[1;32m~\\Anaconda3\\lib\\site-packages\\urllib3\\connection.py\u001b[0m in \u001b[0;36m_new_conn\u001b[1;34m(self)\u001b[0m\n\u001b[0;32m    149\u001b[0m             raise NewConnectionError(\n\u001b[1;32m--> 150\u001b[1;33m                 self, \"Failed to establish a new connection: %s\" % e)\n\u001b[0m\u001b[0;32m    151\u001b[0m \u001b[1;33m\u001b[0m\u001b[0m\n",
      "\u001b[1;31mNewConnectionError\u001b[0m: <urllib3.connection.VerifiedHTTPSConnection object at 0x0000023431C17A90>: Failed to establish a new connection: [WinError 10060] Une tentative de connexion a échoué car le parti connecté n’a pas répondu convenablement au-delà d’une certaine durée ou une connexion établie a échoué car l’hôte de connexion n’a pas répondu",
      "\nDuring handling of the above exception, another exception occurred:\n",
      "\u001b[1;31mMaxRetryError\u001b[0m                             Traceback (most recent call last)",
      "\u001b[1;32m~\\Anaconda3\\lib\\site-packages\\requests\\adapters.py\u001b[0m in \u001b[0;36msend\u001b[1;34m(self, request, stream, timeout, verify, cert, proxies)\u001b[0m\n\u001b[0;32m    439\u001b[0m                     \u001b[0mretries\u001b[0m\u001b[1;33m=\u001b[0m\u001b[0mself\u001b[0m\u001b[1;33m.\u001b[0m\u001b[0mmax_retries\u001b[0m\u001b[1;33m,\u001b[0m\u001b[1;33m\u001b[0m\u001b[0m\n\u001b[1;32m--> 440\u001b[1;33m                     \u001b[0mtimeout\u001b[0m\u001b[1;33m=\u001b[0m\u001b[0mtimeout\u001b[0m\u001b[1;33m\u001b[0m\u001b[0m\n\u001b[0m\u001b[0;32m    441\u001b[0m                 )\n",
      "\u001b[1;32m~\\Anaconda3\\lib\\site-packages\\urllib3\\connectionpool.py\u001b[0m in \u001b[0;36murlopen\u001b[1;34m(self, method, url, body, headers, retries, redirect, assert_same_host, timeout, pool_timeout, release_conn, chunked, body_pos, **response_kw)\u001b[0m\n\u001b[0;32m    638\u001b[0m             retries = retries.increment(method, url, error=e, _pool=self,\n\u001b[1;32m--> 639\u001b[1;33m                                         _stacktrace=sys.exc_info()[2])\n\u001b[0m\u001b[0;32m    640\u001b[0m             \u001b[0mretries\u001b[0m\u001b[1;33m.\u001b[0m\u001b[0msleep\u001b[0m\u001b[1;33m(\u001b[0m\u001b[1;33m)\u001b[0m\u001b[1;33m\u001b[0m\u001b[0m\n",
      "\u001b[1;32m~\\Anaconda3\\lib\\site-packages\\urllib3\\util\\retry.py\u001b[0m in \u001b[0;36mincrement\u001b[1;34m(self, method, url, response, error, _pool, _stacktrace)\u001b[0m\n\u001b[0;32m    387\u001b[0m         \u001b[1;32mif\u001b[0m \u001b[0mnew_retry\u001b[0m\u001b[1;33m.\u001b[0m\u001b[0mis_exhausted\u001b[0m\u001b[1;33m(\u001b[0m\u001b[1;33m)\u001b[0m\u001b[1;33m:\u001b[0m\u001b[1;33m\u001b[0m\u001b[0m\n\u001b[1;32m--> 388\u001b[1;33m             \u001b[1;32mraise\u001b[0m \u001b[0mMaxRetryError\u001b[0m\u001b[1;33m(\u001b[0m\u001b[0m_pool\u001b[0m\u001b[1;33m,\u001b[0m \u001b[0murl\u001b[0m\u001b[1;33m,\u001b[0m \u001b[0merror\u001b[0m \u001b[1;32mor\u001b[0m \u001b[0mResponseError\u001b[0m\u001b[1;33m(\u001b[0m\u001b[0mcause\u001b[0m\u001b[1;33m)\u001b[0m\u001b[1;33m)\u001b[0m\u001b[1;33m\u001b[0m\u001b[0m\n\u001b[0m\u001b[0;32m    389\u001b[0m \u001b[1;33m\u001b[0m\u001b[0m\n",
      "\u001b[1;31mMaxRetryError\u001b[0m: HTTPSConnectionPool(host='www.physiotherapie.com', port=443): Max retries exceeded with url: /physiotherapie/electrotherapie/electrotherapie-portable/douleurs-reeducation/compex-wireless-pro-2-ch-standard-reconditionne.html (Caused by NewConnectionError('<urllib3.connection.VerifiedHTTPSConnection object at 0x0000023431C17A90>: Failed to establish a new connection: [WinError 10060] Une tentative de connexion a échoué car le parti connecté n’a pas répondu convenablement au-delà d’une certaine durée ou une connexion établie a échoué car l’hôte de connexion n’a pas répondu',))",
      "\nDuring handling of the above exception, another exception occurred:\n",
      "\u001b[1;31mConnectionError\u001b[0m                           Traceback (most recent call last)",
      "\u001b[1;32m<ipython-input-28-ed50190c10f0>\u001b[0m in \u001b[0;36m<module>\u001b[1;34m()\u001b[0m\n\u001b[0;32m     32\u001b[0m     \u001b[1;31m# Je parcours les produits de la categorie categ\u001b[0m\u001b[1;33m\u001b[0m\u001b[1;33m\u001b[0m\u001b[0m\n\u001b[0;32m     33\u001b[0m     \u001b[1;32mfor\u001b[0m \u001b[0mu\u001b[0m \u001b[1;32min\u001b[0m \u001b[0murls_prod\u001b[0m\u001b[1;33m:\u001b[0m\u001b[1;33m\u001b[0m\u001b[0m\n\u001b[1;32m---> 34\u001b[1;33m         \u001b[0mpage_u\u001b[0m \u001b[1;33m=\u001b[0m \u001b[0mget\u001b[0m\u001b[1;33m(\u001b[0m\u001b[0mu\u001b[0m\u001b[1;33m)\u001b[0m\u001b[1;33m\u001b[0m\u001b[0m\n\u001b[0m\u001b[0;32m     35\u001b[0m \u001b[1;33m\u001b[0m\u001b[0m\n\u001b[0;32m     36\u001b[0m         \u001b[1;31m# Pause la boucle de 1 à 5 secondes\u001b[0m\u001b[1;33m\u001b[0m\u001b[1;33m\u001b[0m\u001b[0m\n",
      "\u001b[1;32m~\\Anaconda3\\lib\\site-packages\\requests\\api.py\u001b[0m in \u001b[0;36mget\u001b[1;34m(url, params, **kwargs)\u001b[0m\n\u001b[0;32m     70\u001b[0m \u001b[1;33m\u001b[0m\u001b[0m\n\u001b[0;32m     71\u001b[0m     \u001b[0mkwargs\u001b[0m\u001b[1;33m.\u001b[0m\u001b[0msetdefault\u001b[0m\u001b[1;33m(\u001b[0m\u001b[1;34m'allow_redirects'\u001b[0m\u001b[1;33m,\u001b[0m \u001b[1;32mTrue\u001b[0m\u001b[1;33m)\u001b[0m\u001b[1;33m\u001b[0m\u001b[0m\n\u001b[1;32m---> 72\u001b[1;33m     \u001b[1;32mreturn\u001b[0m \u001b[0mrequest\u001b[0m\u001b[1;33m(\u001b[0m\u001b[1;34m'get'\u001b[0m\u001b[1;33m,\u001b[0m \u001b[0murl\u001b[0m\u001b[1;33m,\u001b[0m \u001b[0mparams\u001b[0m\u001b[1;33m=\u001b[0m\u001b[0mparams\u001b[0m\u001b[1;33m,\u001b[0m \u001b[1;33m**\u001b[0m\u001b[0mkwargs\u001b[0m\u001b[1;33m)\u001b[0m\u001b[1;33m\u001b[0m\u001b[0m\n\u001b[0m\u001b[0;32m     73\u001b[0m \u001b[1;33m\u001b[0m\u001b[0m\n\u001b[0;32m     74\u001b[0m \u001b[1;33m\u001b[0m\u001b[0m\n",
      "\u001b[1;32m~\\Anaconda3\\lib\\site-packages\\requests\\api.py\u001b[0m in \u001b[0;36mrequest\u001b[1;34m(method, url, **kwargs)\u001b[0m\n\u001b[0;32m     56\u001b[0m     \u001b[1;31m# cases, and look like a memory leak in others.\u001b[0m\u001b[1;33m\u001b[0m\u001b[1;33m\u001b[0m\u001b[0m\n\u001b[0;32m     57\u001b[0m     \u001b[1;32mwith\u001b[0m \u001b[0msessions\u001b[0m\u001b[1;33m.\u001b[0m\u001b[0mSession\u001b[0m\u001b[1;33m(\u001b[0m\u001b[1;33m)\u001b[0m \u001b[1;32mas\u001b[0m \u001b[0msession\u001b[0m\u001b[1;33m:\u001b[0m\u001b[1;33m\u001b[0m\u001b[0m\n\u001b[1;32m---> 58\u001b[1;33m         \u001b[1;32mreturn\u001b[0m \u001b[0msession\u001b[0m\u001b[1;33m.\u001b[0m\u001b[0mrequest\u001b[0m\u001b[1;33m(\u001b[0m\u001b[0mmethod\u001b[0m\u001b[1;33m=\u001b[0m\u001b[0mmethod\u001b[0m\u001b[1;33m,\u001b[0m \u001b[0murl\u001b[0m\u001b[1;33m=\u001b[0m\u001b[0murl\u001b[0m\u001b[1;33m,\u001b[0m \u001b[1;33m**\u001b[0m\u001b[0mkwargs\u001b[0m\u001b[1;33m)\u001b[0m\u001b[1;33m\u001b[0m\u001b[0m\n\u001b[0m\u001b[0;32m     59\u001b[0m \u001b[1;33m\u001b[0m\u001b[0m\n\u001b[0;32m     60\u001b[0m \u001b[1;33m\u001b[0m\u001b[0m\n",
      "\u001b[1;32m~\\Anaconda3\\lib\\site-packages\\requests\\sessions.py\u001b[0m in \u001b[0;36mrequest\u001b[1;34m(self, method, url, params, data, headers, cookies, files, auth, timeout, allow_redirects, proxies, hooks, stream, verify, cert, json)\u001b[0m\n\u001b[0;32m    506\u001b[0m         }\n\u001b[0;32m    507\u001b[0m         \u001b[0msend_kwargs\u001b[0m\u001b[1;33m.\u001b[0m\u001b[0mupdate\u001b[0m\u001b[1;33m(\u001b[0m\u001b[0msettings\u001b[0m\u001b[1;33m)\u001b[0m\u001b[1;33m\u001b[0m\u001b[0m\n\u001b[1;32m--> 508\u001b[1;33m         \u001b[0mresp\u001b[0m \u001b[1;33m=\u001b[0m \u001b[0mself\u001b[0m\u001b[1;33m.\u001b[0m\u001b[0msend\u001b[0m\u001b[1;33m(\u001b[0m\u001b[0mprep\u001b[0m\u001b[1;33m,\u001b[0m \u001b[1;33m**\u001b[0m\u001b[0msend_kwargs\u001b[0m\u001b[1;33m)\u001b[0m\u001b[1;33m\u001b[0m\u001b[0m\n\u001b[0m\u001b[0;32m    509\u001b[0m \u001b[1;33m\u001b[0m\u001b[0m\n\u001b[0;32m    510\u001b[0m         \u001b[1;32mreturn\u001b[0m \u001b[0mresp\u001b[0m\u001b[1;33m\u001b[0m\u001b[0m\n",
      "\u001b[1;32m~\\Anaconda3\\lib\\site-packages\\requests\\sessions.py\u001b[0m in \u001b[0;36msend\u001b[1;34m(self, request, **kwargs)\u001b[0m\n\u001b[0;32m    616\u001b[0m \u001b[1;33m\u001b[0m\u001b[0m\n\u001b[0;32m    617\u001b[0m         \u001b[1;31m# Send the request\u001b[0m\u001b[1;33m\u001b[0m\u001b[1;33m\u001b[0m\u001b[0m\n\u001b[1;32m--> 618\u001b[1;33m         \u001b[0mr\u001b[0m \u001b[1;33m=\u001b[0m \u001b[0madapter\u001b[0m\u001b[1;33m.\u001b[0m\u001b[0msend\u001b[0m\u001b[1;33m(\u001b[0m\u001b[0mrequest\u001b[0m\u001b[1;33m,\u001b[0m \u001b[1;33m**\u001b[0m\u001b[0mkwargs\u001b[0m\u001b[1;33m)\u001b[0m\u001b[1;33m\u001b[0m\u001b[0m\n\u001b[0m\u001b[0;32m    619\u001b[0m \u001b[1;33m\u001b[0m\u001b[0m\n\u001b[0;32m    620\u001b[0m         \u001b[1;31m# Total elapsed time of the request (approximately)\u001b[0m\u001b[1;33m\u001b[0m\u001b[1;33m\u001b[0m\u001b[0m\n",
      "\u001b[1;32m~\\Anaconda3\\lib\\site-packages\\requests\\adapters.py\u001b[0m in \u001b[0;36msend\u001b[1;34m(self, request, stream, timeout, verify, cert, proxies)\u001b[0m\n\u001b[0;32m    506\u001b[0m                 \u001b[1;32mraise\u001b[0m \u001b[0mSSLError\u001b[0m\u001b[1;33m(\u001b[0m\u001b[0me\u001b[0m\u001b[1;33m,\u001b[0m \u001b[0mrequest\u001b[0m\u001b[1;33m=\u001b[0m\u001b[0mrequest\u001b[0m\u001b[1;33m)\u001b[0m\u001b[1;33m\u001b[0m\u001b[0m\n\u001b[0;32m    507\u001b[0m \u001b[1;33m\u001b[0m\u001b[0m\n\u001b[1;32m--> 508\u001b[1;33m             \u001b[1;32mraise\u001b[0m \u001b[0mConnectionError\u001b[0m\u001b[1;33m(\u001b[0m\u001b[0me\u001b[0m\u001b[1;33m,\u001b[0m \u001b[0mrequest\u001b[0m\u001b[1;33m=\u001b[0m\u001b[0mrequest\u001b[0m\u001b[1;33m)\u001b[0m\u001b[1;33m\u001b[0m\u001b[0m\n\u001b[0m\u001b[0;32m    509\u001b[0m \u001b[1;33m\u001b[0m\u001b[0m\n\u001b[0;32m    510\u001b[0m         \u001b[1;32mexcept\u001b[0m \u001b[0mClosedPoolError\u001b[0m \u001b[1;32mas\u001b[0m \u001b[0me\u001b[0m\u001b[1;33m:\u001b[0m\u001b[1;33m\u001b[0m\u001b[0m\n",
      "\u001b[1;31mConnectionError\u001b[0m: HTTPSConnectionPool(host='www.physiotherapie.com', port=443): Max retries exceeded with url: /physiotherapie/electrotherapie/electrotherapie-portable/douleurs-reeducation/compex-wireless-pro-2-ch-standard-reconditionne.html (Caused by NewConnectionError('<urllib3.connection.VerifiedHTTPSConnection object at 0x0000023431C17A90>: Failed to establish a new connection: [WinError 10060] Une tentative de connexion a échoué car le parti connecté n’a pas répondu convenablement au-delà d’une certaine durée ou une connexion établie a échoué car l’hôte de connexion n’a pas répondu',))"
     ]
    }
   ],
   "source": [
    "import pandas as pd\n",
    "produit_id = []\n",
    "produit_categ = []\n",
    "produit_nom = []\n",
    "produit_marque = []\n",
    "produit_ref = []\n",
    "produit_prix = []\n",
    "produit_prix_0_remise = []\n",
    "\n",
    "urls_prod = []\n",
    "\n",
    "requests = 0\n",
    "\n",
    "# Je parcours toutes les categories\n",
    "for url in urls:\n",
    "    categ = url[0]\n",
    "    categ_url = url[1]\n",
    "\n",
    "    start_time = time()\n",
    "     \n",
    "    \n",
    "    # Je charge la page de la categorie categ\n",
    "    categ_page = get(categ_url)\n",
    "    categ_html = BeautifulSoup(categ_page.content, 'html.parser')\n",
    "    prod_urls = categ_html.find_all(\"div\", class_=\"txtList\")\n",
    "    \n",
    "    # Je crée une liste des urls des produits de la categorie categ\n",
    "    for u in prod_urls:\n",
    "        url_u = u.find(\"h3\").find(\"a\")['href']\n",
    "        urls_prod.append(url_p)\n",
    "    \n",
    "    # Je parcours les produits de la categorie categ\n",
    "    for u in urls_prod:\n",
    "        page_u = get(u)\n",
    "        \n",
    "        # Pause la boucle de 1 à 5 secondes\n",
    "        sleep(randint(1,5))\n",
    "        \n",
    "        # Afficher les informations sur les requêtes\n",
    "        requests +=1\n",
    "        elapsed_time = time() - start_time\n",
    "        print('Requests: {}; Frequency : {} requests/s'.format(requests, requests/elapsed_time))\n",
    "        clear_output(wait = True)\n",
    "        \n",
    "        #Avertir si le code status est différent de 200\n",
    "        if page_u.status_code !=200:\n",
    "            warn('Request: {}; Status code: {}'.format(requests, page_u.status_code))\n",
    "        html_u = BeautifulSoup(page_u.content, 'html.parser')\n",
    "        \n",
    "        id_u = html_u.find(\"input\", id=\"main_product_id\")['value']\n",
    "        p_u = html_u.find(\"div\", class_=\"onglets\").find_all(\"h2\")[0].text\n",
    "        p_u = p_u.split(\" :\")[0]\n",
    "        prix_u = html_u.find(\"div\", class_=\"price-box pricerange\").find(\"meta\")['content']\n",
    "        prix_sans_remise_u = html_i.find(id=\"produitOldPrice_\"+id_u)\n",
    "       # if prix_sans_remise_u != None:\n",
    "       #     prix_sans_remise_u = prix_sans_remise_i['value']\n",
    "       # else:\n",
    "       #     prix_sans_remise_u = 'NaN'\n",
    "        url_u = \"https://www.physiotherapie.com/electrocatalog/index/viewSpecification/id/\"+id_u\n",
    "        detail_u = get(url_u)\n",
    "        html_du = BeautifulSoup(detail_u.content, 'html.parser')\n",
    "        # marque_u = html_du.find(\"table\", class_=\"caracDetails\").find_all(\"td\")[5].text\n",
    "        ref_u = html_du.find(\"table\", class_=\"caracDetails\").find_all(\"td\")[1].text\n",
    "        produit_id.append(id_u)\n",
    "        produit_nom.append(p_u)\n",
    "        produit_categ.append(categ) \n",
    "        produit_ref.append(ref_u)\n",
    "        produit_prix.append(prix_u)\n",
    "        #produit_prix_0_remise.append(prix_sans_remise_u)\n",
    "\n",
    "\n",
    "        \n",
    "physio_ratings = pd.DataFrame({\n",
    "    'id': produit_id,\n",
    "    'nom': produit_nom,\n",
    "    'categorie': produit_categ,\n",
    "    'reference': produit_ref,\n",
    "    'prix': produit_prix,\n",
    " #   'prix sans remise': produit_prix_0_remise\n",
    "})\n",
    "        \n",
    "\n",
    "physio_ratings.to_json(orient='table')\n",
    "\n",
    "print(physio_ratings)\n",
    "    "
   ]
  }
 ],
 "metadata": {
  "kernelspec": {
   "display_name": "Python 3",
   "language": "python",
   "name": "python3"
  },
  "language_info": {
   "codemirror_mode": {
    "name": "ipython",
    "version": 3
   },
   "file_extension": ".py",
   "mimetype": "text/x-python",
   "name": "python",
   "nbconvert_exporter": "python",
   "pygments_lexer": "ipython3",
   "version": "3.6.5"
  }
 },
 "nbformat": 4,
 "nbformat_minor": 2
}
